{
 "cells": [
  {
   "cell_type": "markdown",
   "metadata": {},
   "source": [
    "In Chapter 1 of his book **Hands-On Data Preprocessing in Python**, Roy Jafari provides valuable recommendations for understanding a new dataset. While it's not feasible to cover every detail and attribute in this notebook, especially the most important one, which is just asking about the dataset to someone with knowledge of it, some noteworthy points can be transformed into insights for future analyses.\n",
    "\n",
    "The steps mentioned can be summarized as follows:\n",
    "1. Ask questions.\n",
    "2. Check the structure of the dataframe.\n",
    "3. Check the values.\n",
    "4. Visualize the attributes."
   ]
  },
  {
   "cell_type": "markdown",
   "metadata": {},
   "source": [
    "## Step 1 | Asking questions\n",
    "First step recommended by Jafari is to simply ask about and research the dataframe. In our case, we will be using a dataset obtained from [datos.gob.ar](www.datos.gob.ar), the open data platform created by Argentina's Public Administration.\n",
    "\n",
    "In particular, our dataset is located in https://www.datos.gob.ar/dataset/renaper-estructura-poblacion-origen-extranjero and contains data about the foreign population living in Argentina. On https://www.datos.gob.ar/dataset/renaper-estructura-poblacion-origen-extranjero/archivo/renaper_4.2 we can see more information about the data types, unit of measures and column names and descriptions (in spanish).\n",
    "\n",
    "The following table contains the data found on the site about this specific dataframe.\n",
    "\n",
    "| **Column Title** | **Data Type** | **Description** | **Unit of Measure** |\n",
    "|------------------|---------------|-----------------|-------------------------|\n",
    "| pais_origen      | Text (string) | Country of birth |                       |\n",
    "| provincia_id     | Integer       | Code assigned by the National Institute of Statistics and Census for each Province, including CABA (Buenos Aires Autonomous City) |                       |\n",
    "| provincia_nombre | Text (string) | Name of the province of residence as per the DNI (National Identity Document) |                       |\n",
    "| amba             | Text (string) | Classification of residence based on whether it's in the Buenos Aires Metropolitan Area or elsewhere in the country |                       |\n",
    "| sexo             | Text (string) | Gender as per the DNI |                       |\n",
    "| edad_quinquenal  | Text (string) | Quinquennial age groups |                       |\n",
    "| cantidad         | Integer       | Number of people identified with foreign origin DNIs | People |"
   ]
  },
  {
   "cell_type": "code",
   "execution_count": 1,
   "metadata": {},
   "outputs": [],
   "source": [
    "# Import relevant libraries\n",
    "import pandas as pd\n",
    "import numpy as np\n",
    "import matplotlib.pyplot as plt \n",
    "\n",
    "# Load dataframe from file\n",
    "foreign_population_df = pd.read_csv(\"poblacion_extranjera_identificada_agosto_2023.csv\", encoding=\"utf-8\")"
   ]
  },
  {
   "cell_type": "markdown",
   "metadata": {},
   "source": [
    "## Step 2 | Check the data structure\n",
    "\n",
    "### Dataframe shape\n",
    "\n",
    "Knowing about the shape, or number of rows and columns in a dataframe can be accomplished by using the `df.shape` property. In our case we use indexing to first access the number of rows and columns separatedly.\n",
    "\n",
    "### Column information\n",
    "\n",
    "This was also partially covered when we read documentation. However with the property `df.columns` we can see the column names as they are on the `DataFrame` object.\n",
    "The method `df.info()` can also display the data types and the number of entries on the index.\n",
    "\n",
    "**NOTE:** To facilitate the understanding of this project to any non spanish speaker the columns will be renamed to english."
   ]
  },
  {
   "cell_type": "code",
   "execution_count": 2,
   "metadata": {},
   "outputs": [
    {
     "name": "stdout",
     "output_type": "stream",
     "text": [
      "NUMBER OF ROWS: 15403\n",
      "NUMBER OF COLUMNS: 7\n",
      "\n",
      "ORIGINAL COLUMN NAMES:\n",
      "- pais_origen, provincia_id, nombre_provincia, sexo, edad_quinquenal, amba, Cantidad\n",
      "COLUMN NAMES AFTER RENAMING:\n",
      "- country_of_birth, province_id, province_name, gender, age_group, amba, quantity\n",
      "\n",
      "<class 'pandas.core.frame.DataFrame'>\n",
      "RangeIndex: 15403 entries, 0 to 15402\n",
      "Data columns (total 7 columns):\n",
      " #   Column            Dtype \n",
      "---  ------            ----- \n",
      " 0   country_of_birth  object\n",
      " 1   province_id       int64 \n",
      " 2   province_name     object\n",
      " 3   gender            object\n",
      " 4   age_group         object\n",
      " 5   amba              object\n",
      " 6   quantity          int64 \n",
      "dtypes: int64(2), object(5)"
     ]
    }
   ],
   "source": [
    "# Show number of rows and columns\n",
    "print(f\"NUMBER OF ROWS: {foreign_population_df.shape[0]}\")\n",
    "print(f\"NUMBER OF COLUMNS: {foreign_population_df.shape[1]}\")\n",
    "\n",
    "# Show original column names\n",
    "print(f\"\\nORIGINAL COLUMN NAMES:\\n- {', '.join(foreign_population_df.columns)}\")\n",
    "\n",
    "# Rename columns and display new column names\n",
    "foreign_population_df = foreign_population_df.rename(mapper={\n",
    "    \"pais_origen\": \"country_of_birth\",\n",
    "    \"provincia_id\": \"province_id\",\n",
    "    \"nombre_provincia\": \"province_name\", # On the website it says this column name is \"provincia_nombre\" but on the file it's different\n",
    "    \"amba\": \"amba\",\n",
    "    \"sexo\": \"gender\",\n",
    "    \"edad_quinquenal\": \"age_group\",\n",
    "    \"Cantidad\": \"quantity\"\n",
    "}, axis=1)\n",
    "\n",
    "print(f\"COLUMN NAMES AFTER RENAMING:\\n- {', '.join(foreign_population_df.columns)}\\n\")\n",
    "\n",
    "# Display range of the index and column data types\n",
    "foreign_population_df.info(memory_usage=False, show_counts=False)"
   ]
  },
  {
   "cell_type": "markdown",
   "metadata": {},
   "source": [
    "### Visual inspection\n",
    "\n",
    "We can also do a visual inspection of the first values present on the dataframe by using the method `df.head()`. Alternatively, `df.tail()` does the same for the last rows. By default, only 5 rows are shown, unless specified otherwise."
   ]
  },
  {
   "cell_type": "code",
   "execution_count": 3,
   "metadata": {},
   "outputs": [
    {
     "data": {
      "text/html": [
       "<div>\n",
       "<style scoped>\n",
       "    .dataframe tbody tr th:only-of-type {\n",
       "        vertical-align: middle;\n",
       "    }\n",
       "\n",
       "    .dataframe tbody tr th {\n",
       "        vertical-align: top;\n",
       "    }\n",
       "\n",
       "    .dataframe thead th {\n",
       "        text-align: right;\n",
       "    }\n",
       "</style>\n",
       "<table border=\"1\" class=\"dataframe\">\n",
       "  <thead>\n",
       "    <tr style=\"text-align: right;\">\n",
       "      <th></th>\n",
       "      <th>country_of_birth</th>\n",
       "      <th>province_id</th>\n",
       "      <th>province_name</th>\n",
       "      <th>gender</th>\n",
       "      <th>age_group</th>\n",
       "      <th>amba</th>\n",
       "      <th>quantity</th>\n",
       "    </tr>\n",
       "  </thead>\n",
       "  <tbody>\n",
       "    <tr>\n",
       "      <th>0</th>\n",
       "      <td>Alemania</td>\n",
       "      <td>6</td>\n",
       "      <td>Buenos Aires</td>\n",
       "      <td>F</td>\n",
       "      <td>0 a 4</td>\n",
       "      <td>AMBA</td>\n",
       "      <td>12</td>\n",
       "    </tr>\n",
       "    <tr>\n",
       "      <th>1</th>\n",
       "      <td>Alemania</td>\n",
       "      <td>6</td>\n",
       "      <td>Buenos Aires</td>\n",
       "      <td>F</td>\n",
       "      <td>10 a 14</td>\n",
       "      <td>AMBA</td>\n",
       "      <td>37</td>\n",
       "    </tr>\n",
       "    <tr>\n",
       "      <th>2</th>\n",
       "      <td>Alemania</td>\n",
       "      <td>6</td>\n",
       "      <td>Buenos Aires</td>\n",
       "      <td>F</td>\n",
       "      <td>15 a 19</td>\n",
       "      <td>AMBA</td>\n",
       "      <td>48</td>\n",
       "    </tr>\n",
       "    <tr>\n",
       "      <th>3</th>\n",
       "      <td>Alemania</td>\n",
       "      <td>6</td>\n",
       "      <td>Buenos Aires</td>\n",
       "      <td>F</td>\n",
       "      <td>20 a 24</td>\n",
       "      <td>AMBA</td>\n",
       "      <td>45</td>\n",
       "    </tr>\n",
       "    <tr>\n",
       "      <th>4</th>\n",
       "      <td>Alemania</td>\n",
       "      <td>6</td>\n",
       "      <td>Buenos Aires</td>\n",
       "      <td>F</td>\n",
       "      <td>25 a 29</td>\n",
       "      <td>AMBA</td>\n",
       "      <td>44</td>\n",
       "    </tr>\n",
       "  </tbody>\n",
       "</table>\n",
       "</div>"
      ],
      "text/plain": [
       "  country_of_birth  province_id province_name gender age_group  amba  quantity\n",
       "0         Alemania            6  Buenos Aires      F     0 a 4  AMBA        12\n",
       "1         Alemania            6  Buenos Aires      F   10 a 14  AMBA        37\n",
       "2         Alemania            6  Buenos Aires      F   15 a 19  AMBA        48\n",
       "3         Alemania            6  Buenos Aires      F   20 a 24  AMBA        45\n",
       "4         Alemania            6  Buenos Aires      F   25 a 29  AMBA        44"
      ]
     },
     "execution_count": 3,
     "metadata": {},
     "output_type": "execute_result"
    }
   ],
   "source": [
    "foreign_population_df.head()"
   ]
  },
  {
   "cell_type": "markdown",
   "metadata": {},
   "source": [
    "## Step 3 | Checking values\n",
    "\n",
    "### Check unique values\n",
    "When we are dealing with categorical data we will want to see which categories are present on the dataframe, for that we can use the method `df.column.unique()`."
   ]
  },
  {
   "cell_type": "code",
   "execution_count": 4,
   "metadata": {},
   "outputs": [
    {
     "name": "stdout",
     "output_type": "stream",
     "text": [
      "COUNTRY_OF_BIRTH:\n",
      "['Alemania' 'Bolivia' 'Brasil' 'Chile' 'China' 'Colombia' 'Corea del Sur'\n",
      " 'Cuba' 'Ecuador' 'España' 'Estados Unidos' 'Francia' 'Italia' 'México'\n",
      " 'Otro país' 'Paraguay' 'Perú' 'Rep. Dominicana' 'Ucrania' 'Uruguay'\n",
      " 'Venezuela']\n",
      "\n",
      "PROVINCE_NAME:\n",
      "['Buenos Aires' 'Catamarca' 'Chaco' 'Chubut'\n",
      " 'Ciudad Autónoma de Buenos Aires' 'Córdoba' 'Corrientes' 'Entre Ríos'\n",
      " 'Formosa' 'Jujuy' 'La Pampa' 'La Rioja' 'Mendoza' 'Misiones' 'Neuquén'\n",
      " 'Río Negro' 'Salta' 'San Juan' 'San Luis' 'Santa Cruz' 'Santa Fe'\n",
      " 'Santiago del Estero' 'Tierra Del Fuego' 'Tucumán']\n",
      "\n",
      "GENDER:\n",
      "['F' 'M' 'X']\n",
      "\n",
      "AGE_GROUP:\n",
      "['0 a 4' '10 a 14' '15 a 19' '20 a 24' '25 a 29' '30 a 34' '35 a 39'\n",
      " '40 a 44' '45 a 49' '5 a 9' '50 a 54' '55 a 59' '60 a 64' '65 a 69'\n",
      " '70 a 74' '75 a 79' '80 a 84' '85 y más']\n",
      "\n",
      "AMBA:\n",
      "['AMBA' 'Resto del pais']\n",
      "\n"
     ]
    }
   ],
   "source": [
    "# Display unique values for every column of the data type object\n",
    "for column in foreign_population_df.select_dtypes(include='object').columns:\n",
    "    print(f\"{column.upper()}:\\n{foreign_population_df[column].unique()}\\n\")"
   ]
  },
  {
   "cell_type": "markdown",
   "metadata": {},
   "source": [
    "### Checking for missing values\n",
    "Pandas dataframes come with the builtin method `df.isnull()` for finding missing values.\n",
    "\n",
    "**Note:** `df.isnull()` doesn't count empty strings as missing values. We can change that behaviour by using `pandas.options.mode.use_inf_as_na = True` or by replacing empty strings with a valid null value like `nan` from the numpy library."
   ]
  },
  {
   "cell_type": "code",
   "execution_count": 5,
   "metadata": {},
   "outputs": [
    {
     "data": {
      "text/plain": [
       "country_of_birth    0\n",
       "province_id         0\n",
       "province_name       0\n",
       "gender              0\n",
       "age_group           0\n",
       "amba                0\n",
       "quantity            0\n",
       "dtype: int64"
      ]
     },
     "execution_count": 5,
     "metadata": {},
     "output_type": "execute_result"
    }
   ],
   "source": [
    "# We replace any empty strings on the dataframe with np.nan and then check for any missing data\n",
    "foreign_population_df.replace(\"\", np.nan).isnull().sum()"
   ]
  },
  {
   "cell_type": "markdown",
   "metadata": {},
   "source": [
    "### The .describe() function\n",
    "\n",
    "Statistical summarization is one of the best ways to get to know more about numerical data. Luckily, pandas already has the `df.describe()` function which is perfect for that when we don't know much about the dataset. For any numerical column it will include count, mean, standard deviation, min and max values as well as first, second and third quartiles."
   ]
  },
  {
   "cell_type": "code",
   "execution_count": 6,
   "metadata": {},
   "outputs": [
    {
     "data": {
      "text/plain": [
       "count    15403.000000\n",
       "mean       200.894112\n",
       "std       1274.816181\n",
       "min          1.000000\n",
       "25%          3.000000\n",
       "50%         10.000000\n",
       "75%         45.000000\n",
       "max      42066.000000\n",
       "Name: quantity, dtype: float64"
      ]
     },
     "execution_count": 6,
     "metadata": {},
     "output_type": "execute_result"
    }
   ],
   "source": [
    "# We will only use describe on column quantity given that province_id is a categorical variable despite being a number\n",
    "foreign_population_df[\"quantity\"].describe()"
   ]
  },
  {
   "cell_type": "markdown",
   "metadata": {},
   "source": [
    "## Step 4 | Visualizing attributes\n",
    "\n",
    "For most datasets, studying all of the summarization values can be overwhelm us. Visualization tools can help remedy that situation. Pandas already comes with a collection of plot functions which makes it quite easy to rapidly build basic but very informative visualizations. These functions become even more powerful when combined with the matplotlib library.\n",
    "\n",
    "### Histograms and boxplots\n",
    "\n",
    "Data exploration with Pandas' is easy by using `.box()` and `.hist()` functions. `.box()` provides a concise summary of a dataset's distribution, highlighting central tendencies and outliers. Meanwhile, `.hist()` delivers a visual representation of data frequency, aiding in the identification of patterns and trends.\n"
   ]
  },
  {
   "cell_type": "code",
   "execution_count": 7,
   "metadata": {},
   "outputs": [
    {
     "data": {
      "image/png": "[encoded data removed]",
      "text/plain": [
       "<Figure size 864x360 with 2 Axes>"
      ]
     },
     "metadata": {},
     "output_type": "display_data"
    }
   ],
   "source": [
    "# Change the style used by matplotlib\n",
    "plt.style.use('ggplot')\n",
    "\n",
    "# Create the figure and axes to display the visualizations\n",
    "fig, axes = plt.subplots(1, 2, figsize=(12, 5))\n",
    "\n",
    "# Boxplot\n",
    "foreign_population_df[\"quantity\"].plot.box(ax=axes[0])\n",
    "axes[0].set_title('Boxplot')\n",
    "\n",
    "# Histogram\n",
    "foreign_population_df[\"quantity\"].value_counts().plot.hist(ax=axes[1])\n",
    "axes[1].set_title('Histogram')\n",
    "\n",
    "plt.show()\n"
   ]
  },
  {
   "cell_type": "markdown",
   "metadata": {},
   "source": [
    "### Customizing Visualizations\n",
    "\n",
    "Analyzing the 'quantity' column in `foreign_population_df` reveals a skewed distribution towards smaller values, complicating visualization. Additionally, outliers, as seen on the boxplot, further challenge data interpretation. Combining the power of Matplotlib and Pandas allows for tailored visualizations to address these challenges.\n",
    "\n",
    "To manage skewness, one approach we can use a logarithmic scale in the histogram, this compresses the x-axis, enhancing visibility of smaller values. With `.plot.hist()` it's as simple as passing the passing the `log=True` parameter."
   ]
  },
  {
   "cell_type": "code",
   "execution_count": 8,
   "metadata": {},
   "outputs": [
    {
     "data": {
      "image/png": "[encoded data removed]",
      "text/plain": [
       "<Figure size 864x432 with 1 Axes>"
      ]
     },
     "metadata": {},
     "output_type": "display_data"
    }
   ],
   "source": [
    "# Log-scaled histogram\n",
    "plt.figure(figsize=(12, 6))\n",
    "plt.subplot(1, 2, 1)\n",
    "foreign_population_df['quantity'].plot.hist(log=True, edgecolor='black')\n",
    "plt.title('Log-scaled Histogram')\n",
    "\n",
    "plt.show()"
   ]
  }
 ],
 "metadata": {
  "kernelspec": {
   "display_name": "py39env",
   "language": "python",
   "name": "py39env"
  },
  "language_info": {
   "codemirror_mode": {
    "name": "ipython",
    "version": 3
   },
   "file_extension": ".py",
   "mimetype": "text/x-python",
   "name": "python",
   "nbconvert_exporter": "python",
   "pygments_lexer": "ipython3",
   "version": "3.9.13"
  }
 },
 "nbformat": 4,
 "nbformat_minor": 2
}
